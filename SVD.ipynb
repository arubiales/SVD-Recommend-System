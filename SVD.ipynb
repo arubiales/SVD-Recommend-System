{
 "metadata": {
  "language_info": {
   "codemirror_mode": {
    "name": "ipython",
    "version": 3
   },
   "file_extension": ".py",
   "mimetype": "text/x-python",
   "name": "python",
   "nbconvert_exporter": "python",
   "pygments_lexer": "ipython3",
   "version": "3.7.6-final"
  },
  "orig_nbformat": 2,
  "kernelspec": {
   "name": "python37664bitvenvgeneralconda7085704f209445749460679d25135f01",
   "display_name": "Python 3.7.6 64-bit ('venv-General': conda)"
  }
 },
 "nbformat": 4,
 "nbformat_minor": 2,
 "cells": [
  {
   "cell_type": "code",
   "execution_count": 22,
   "metadata": {},
   "outputs": [],
   "source": [
    "import numpy as np\n",
    "import pandas as pd\n",
    "from scipy.sparse import coo_matrix\n",
    "from scipy.sparse.linalg import svds"
   ]
  },
  {
   "source": [
    "# Singular Value Decomposition\n",
    "\n",
    "$$ \\underset{(n, d)}A \\approx \\underset{(n, n)}U * \\underset{(n, d)}\\Sigma * \\underset{(d, d)} V^T  $$\n",
    "\n",
    "Cualquier matriz de tamaño (n, d) se puede descomponer en producto de tres factores\n",
    "\n",
    "* En *U* de tamaño (n, n) es una matriz ortogonal que contiene los vectores singulares izquierdos de *A*.\n",
    "* En $\\Sigma$ que es una matriz diagonal (n,d), cuyos valores son los valores singulares de la matriz *A* ordenados en valor decreciente\n",
    "* En *V* que es una matriz transpuesta (d,d), cuyos valores son los vectores singulares derechos de *A*.\n",
    "\n",
    "*Ortogonal significa que multiplicando la transpuesta por si misma, se obtiene la matriz identidad*\n",
    "\n",
    "Con esto lo que se consigue es que podemos ir elminando vectores de las matrices con la información que no es fundamental, (limpiar los datos) y quedarnos con aquella información más determinante.\n",
    "\n",
    "## Aplicación práctica\n",
    "\n",
    "Lo que se hace con los motores de recomendación, es para una película que tu no has visto, teniendo en cuenta tus características y las de otros usuarios. Mediante SVD nos quedamos con los usuarios que son parecidos a ti, y vemos las peliculas que no has visto\n",
    "## Preprocesamos los datos"
   ],
   "cell_type": "markdown",
   "metadata": {}
  },
  {
   "cell_type": "code",
   "execution_count": 3,
   "metadata": {},
   "outputs": [
    {
     "output_type": "execute_result",
     "data": {
      "text/plain": [
       "      InvoiceNo StockCode                          Description  Quantity  \\\n",
       "0        573744     21314        SMALL GLASS HEART TRINKET POT         8   \n",
       "1        573744     21704              BAG 250g SWIRLY MARBLES        12   \n",
       "2        573744     21791   VINTAGE HEADS AND TAILS CARD GAME         12   \n",
       "3        573744     21892   TRADITIONAL WOODEN CATCH CUP GAME         12   \n",
       "4        573744     21915               RED  HARMONICA IN BOX         12   \n",
       "...         ...       ...                                  ...       ...   \n",
       "84706   C579886     22197                       POPCORN HOLDER        -1   \n",
       "84707   C579886     23146       TRIPLE HOOK ANTIQUE IVORY ROSE        -1   \n",
       "84708   C579887     84946         ANTIQUE SILVER T-LIGHT GLASS        -1   \n",
       "84709   C579887     85048  15CM CHRISTMAS GLASS BALL 20 LIGHTS        -1   \n",
       "84710   C579887     23490     T-LIGHT HOLDER HANGING LOVE BIRD        -3   \n",
       "\n",
       "               InvoiceDate  UnitPrice  CustomerID         Country  \n",
       "0      2011-11-01 08:16:00       2.10     17733.0  United Kingdom  \n",
       "1      2011-11-01 08:16:00       0.85     17733.0  United Kingdom  \n",
       "2      2011-11-01 08:16:00       1.25     17733.0  United Kingdom  \n",
       "3      2011-11-01 08:16:00       1.25     17733.0  United Kingdom  \n",
       "4      2011-11-01 08:16:00       1.25     17733.0  United Kingdom  \n",
       "...                    ...        ...         ...             ...  \n",
       "84706  2011-11-30 17:39:00       0.85     15676.0  United Kingdom  \n",
       "84707  2011-11-30 17:39:00       3.29     15676.0  United Kingdom  \n",
       "84708  2011-11-30 17:42:00       1.25     16717.0  United Kingdom  \n",
       "84709  2011-11-30 17:42:00       7.95     16717.0  United Kingdom  \n",
       "84710  2011-11-30 17:42:00       3.75     16717.0  United Kingdom  \n",
       "\n",
       "[84711 rows x 8 columns]"
      ],
      "text/html": "<div>\n<style scoped>\n    .dataframe tbody tr th:only-of-type {\n        vertical-align: middle;\n    }\n\n    .dataframe tbody tr th {\n        vertical-align: top;\n    }\n\n    .dataframe thead th {\n        text-align: right;\n    }\n</style>\n<table border=\"1\" class=\"dataframe\">\n  <thead>\n    <tr style=\"text-align: right;\">\n      <th></th>\n      <th>InvoiceNo</th>\n      <th>StockCode</th>\n      <th>Description</th>\n      <th>Quantity</th>\n      <th>InvoiceDate</th>\n      <th>UnitPrice</th>\n      <th>CustomerID</th>\n      <th>Country</th>\n    </tr>\n  </thead>\n  <tbody>\n    <tr>\n      <th>0</th>\n      <td>573744</td>\n      <td>21314</td>\n      <td>SMALL GLASS HEART TRINKET POT</td>\n      <td>8</td>\n      <td>2011-11-01 08:16:00</td>\n      <td>2.10</td>\n      <td>17733.0</td>\n      <td>United Kingdom</td>\n    </tr>\n    <tr>\n      <th>1</th>\n      <td>573744</td>\n      <td>21704</td>\n      <td>BAG 250g SWIRLY MARBLES</td>\n      <td>12</td>\n      <td>2011-11-01 08:16:00</td>\n      <td>0.85</td>\n      <td>17733.0</td>\n      <td>United Kingdom</td>\n    </tr>\n    <tr>\n      <th>2</th>\n      <td>573744</td>\n      <td>21791</td>\n      <td>VINTAGE HEADS AND TAILS CARD GAME</td>\n      <td>12</td>\n      <td>2011-11-01 08:16:00</td>\n      <td>1.25</td>\n      <td>17733.0</td>\n      <td>United Kingdom</td>\n    </tr>\n    <tr>\n      <th>3</th>\n      <td>573744</td>\n      <td>21892</td>\n      <td>TRADITIONAL WOODEN CATCH CUP GAME</td>\n      <td>12</td>\n      <td>2011-11-01 08:16:00</td>\n      <td>1.25</td>\n      <td>17733.0</td>\n      <td>United Kingdom</td>\n    </tr>\n    <tr>\n      <th>4</th>\n      <td>573744</td>\n      <td>21915</td>\n      <td>RED  HARMONICA IN BOX</td>\n      <td>12</td>\n      <td>2011-11-01 08:16:00</td>\n      <td>1.25</td>\n      <td>17733.0</td>\n      <td>United Kingdom</td>\n    </tr>\n    <tr>\n      <th>...</th>\n      <td>...</td>\n      <td>...</td>\n      <td>...</td>\n      <td>...</td>\n      <td>...</td>\n      <td>...</td>\n      <td>...</td>\n      <td>...</td>\n    </tr>\n    <tr>\n      <th>84706</th>\n      <td>C579886</td>\n      <td>22197</td>\n      <td>POPCORN HOLDER</td>\n      <td>-1</td>\n      <td>2011-11-30 17:39:00</td>\n      <td>0.85</td>\n      <td>15676.0</td>\n      <td>United Kingdom</td>\n    </tr>\n    <tr>\n      <th>84707</th>\n      <td>C579886</td>\n      <td>23146</td>\n      <td>TRIPLE HOOK ANTIQUE IVORY ROSE</td>\n      <td>-1</td>\n      <td>2011-11-30 17:39:00</td>\n      <td>3.29</td>\n      <td>15676.0</td>\n      <td>United Kingdom</td>\n    </tr>\n    <tr>\n      <th>84708</th>\n      <td>C579887</td>\n      <td>84946</td>\n      <td>ANTIQUE SILVER T-LIGHT GLASS</td>\n      <td>-1</td>\n      <td>2011-11-30 17:42:00</td>\n      <td>1.25</td>\n      <td>16717.0</td>\n      <td>United Kingdom</td>\n    </tr>\n    <tr>\n      <th>84709</th>\n      <td>C579887</td>\n      <td>85048</td>\n      <td>15CM CHRISTMAS GLASS BALL 20 LIGHTS</td>\n      <td>-1</td>\n      <td>2011-11-30 17:42:00</td>\n      <td>7.95</td>\n      <td>16717.0</td>\n      <td>United Kingdom</td>\n    </tr>\n    <tr>\n      <th>84710</th>\n      <td>C579887</td>\n      <td>23490</td>\n      <td>T-LIGHT HOLDER HANGING LOVE BIRD</td>\n      <td>-3</td>\n      <td>2011-11-30 17:42:00</td>\n      <td>3.75</td>\n      <td>16717.0</td>\n      <td>United Kingdom</td>\n    </tr>\n  </tbody>\n</table>\n<p>84711 rows × 8 columns</p>\n</div>"
     },
     "metadata": {},
     "execution_count": 3
    }
   ],
   "source": [
    "df_sells = pd.read_csv(\"retail.csv\")\n",
    "df_sells"
   ]
  },
  {
   "cell_type": "code",
   "execution_count": 43,
   "metadata": {},
   "outputs": [],
   "source": [
    "item_dict = dict(zip(df_sells['StockCode'], df_sells['Description']))"
   ]
  },
  {
   "cell_type": "code",
   "execution_count": 11,
   "metadata": {},
   "outputs": [],
   "source": [
    "sell_matrix = df_sells.pivot_table(\n",
    "    values='Quantity', \n",
    "    index='CustomerID', \n",
    "    columns='StockCode',\n",
    "    aggfunc=\"sum\"\n",
    ")"
   ]
  },
  {
   "cell_type": "code",
   "execution_count": 12,
   "metadata": {},
   "outputs": [
    {
     "output_type": "execute_result",
     "data": {
      "text/plain": [
       "StockCode   10080  10120  10124A  10124G  10125  10135  11001  15030  15034  \\\n",
       "CustomerID                                                                    \n",
       "12349.0       NaN    NaN     NaN     NaN    NaN    NaN    NaN    NaN    NaN   \n",
       "12352.0       NaN    NaN     NaN     NaN    NaN    NaN    NaN    NaN    NaN   \n",
       "12356.0       NaN    NaN     NaN     NaN    NaN    NaN    NaN    NaN    NaN   \n",
       "12357.0       NaN    NaN     NaN     NaN    NaN    NaN    NaN    NaN    NaN   \n",
       "12362.0       NaN    NaN     NaN     NaN    NaN    NaN    NaN    NaN    NaN   \n",
       "...           ...    ...     ...     ...    ...    ...    ...    ...    ...   \n",
       "18263.0       NaN    NaN     NaN     NaN    NaN   20.0    NaN    NaN    NaN   \n",
       "18270.0       NaN    NaN     NaN     NaN    NaN    NaN    NaN    NaN    NaN   \n",
       "18274.0       NaN    NaN     NaN     NaN    NaN    NaN    NaN    NaN    NaN   \n",
       "18276.0       NaN    NaN     NaN     NaN    NaN    NaN    NaN    NaN    NaN   \n",
       "18283.0       NaN    NaN     NaN     NaN    NaN    NaN    NaN    NaN    NaN   \n",
       "\n",
       "StockCode   15036  ...  90214M  90214N  90214S  BANK CHARGES  C2  CRUK   D  \\\n",
       "CustomerID         ...                                                       \n",
       "12349.0       NaN  ...     NaN     NaN     NaN           NaN NaN   NaN NaN   \n",
       "12352.0       NaN  ...     NaN     NaN     NaN           NaN NaN   NaN NaN   \n",
       "12356.0       NaN  ...     NaN     NaN     NaN           NaN NaN   NaN NaN   \n",
       "12357.0       NaN  ...     NaN     NaN     NaN           NaN NaN   NaN NaN   \n",
       "12362.0       NaN  ...     NaN     NaN     NaN           NaN NaN   NaN NaN   \n",
       "...           ...  ...     ...     ...     ...           ...  ..   ...  ..   \n",
       "18263.0       NaN  ...     NaN     NaN     NaN           NaN NaN   NaN NaN   \n",
       "18270.0       NaN  ...     NaN     NaN     NaN           NaN NaN   NaN NaN   \n",
       "18274.0       NaN  ...     NaN     NaN     NaN           NaN NaN   NaN NaN   \n",
       "18276.0       NaN  ...     NaN     NaN     NaN           NaN NaN   NaN NaN   \n",
       "18283.0       NaN  ...     NaN     NaN     NaN           NaN NaN   NaN NaN   \n",
       "\n",
       "StockCode   DOT   M  POST  \n",
       "CustomerID                 \n",
       "12349.0     NaN NaN   1.0  \n",
       "12352.0     NaN NaN   2.0  \n",
       "12356.0     NaN NaN   NaN  \n",
       "12357.0     NaN NaN   NaN  \n",
       "12362.0     NaN NaN   4.0  \n",
       "...         ...  ..   ...  \n",
       "18263.0     NaN NaN   NaN  \n",
       "18270.0     NaN NaN   NaN  \n",
       "18274.0     NaN NaN   NaN  \n",
       "18276.0     NaN NaN   NaN  \n",
       "18283.0     NaN NaN   NaN  \n",
       "\n",
       "[1711 rows x 2704 columns]"
      ],
      "text/html": "<div>\n<style scoped>\n    .dataframe tbody tr th:only-of-type {\n        vertical-align: middle;\n    }\n\n    .dataframe tbody tr th {\n        vertical-align: top;\n    }\n\n    .dataframe thead th {\n        text-align: right;\n    }\n</style>\n<table border=\"1\" class=\"dataframe\">\n  <thead>\n    <tr style=\"text-align: right;\">\n      <th>StockCode</th>\n      <th>10080</th>\n      <th>10120</th>\n      <th>10124A</th>\n      <th>10124G</th>\n      <th>10125</th>\n      <th>10135</th>\n      <th>11001</th>\n      <th>15030</th>\n      <th>15034</th>\n      <th>15036</th>\n      <th>...</th>\n      <th>90214M</th>\n      <th>90214N</th>\n      <th>90214S</th>\n      <th>BANK CHARGES</th>\n      <th>C2</th>\n      <th>CRUK</th>\n      <th>D</th>\n      <th>DOT</th>\n      <th>M</th>\n      <th>POST</th>\n    </tr>\n    <tr>\n      <th>CustomerID</th>\n      <th></th>\n      <th></th>\n      <th></th>\n      <th></th>\n      <th></th>\n      <th></th>\n      <th></th>\n      <th></th>\n      <th></th>\n      <th></th>\n      <th></th>\n      <th></th>\n      <th></th>\n      <th></th>\n      <th></th>\n      <th></th>\n      <th></th>\n      <th></th>\n      <th></th>\n      <th></th>\n      <th></th>\n    </tr>\n  </thead>\n  <tbody>\n    <tr>\n      <th>12349.0</th>\n      <td>NaN</td>\n      <td>NaN</td>\n      <td>NaN</td>\n      <td>NaN</td>\n      <td>NaN</td>\n      <td>NaN</td>\n      <td>NaN</td>\n      <td>NaN</td>\n      <td>NaN</td>\n      <td>NaN</td>\n      <td>...</td>\n      <td>NaN</td>\n      <td>NaN</td>\n      <td>NaN</td>\n      <td>NaN</td>\n      <td>NaN</td>\n      <td>NaN</td>\n      <td>NaN</td>\n      <td>NaN</td>\n      <td>NaN</td>\n      <td>1.0</td>\n    </tr>\n    <tr>\n      <th>12352.0</th>\n      <td>NaN</td>\n      <td>NaN</td>\n      <td>NaN</td>\n      <td>NaN</td>\n      <td>NaN</td>\n      <td>NaN</td>\n      <td>NaN</td>\n      <td>NaN</td>\n      <td>NaN</td>\n      <td>NaN</td>\n      <td>...</td>\n      <td>NaN</td>\n      <td>NaN</td>\n      <td>NaN</td>\n      <td>NaN</td>\n      <td>NaN</td>\n      <td>NaN</td>\n      <td>NaN</td>\n      <td>NaN</td>\n      <td>NaN</td>\n      <td>2.0</td>\n    </tr>\n    <tr>\n      <th>12356.0</th>\n      <td>NaN</td>\n      <td>NaN</td>\n      <td>NaN</td>\n      <td>NaN</td>\n      <td>NaN</td>\n      <td>NaN</td>\n      <td>NaN</td>\n      <td>NaN</td>\n      <td>NaN</td>\n      <td>NaN</td>\n      <td>...</td>\n      <td>NaN</td>\n      <td>NaN</td>\n      <td>NaN</td>\n      <td>NaN</td>\n      <td>NaN</td>\n      <td>NaN</td>\n      <td>NaN</td>\n      <td>NaN</td>\n      <td>NaN</td>\n      <td>NaN</td>\n    </tr>\n    <tr>\n      <th>12357.0</th>\n      <td>NaN</td>\n      <td>NaN</td>\n      <td>NaN</td>\n      <td>NaN</td>\n      <td>NaN</td>\n      <td>NaN</td>\n      <td>NaN</td>\n      <td>NaN</td>\n      <td>NaN</td>\n      <td>NaN</td>\n      <td>...</td>\n      <td>NaN</td>\n      <td>NaN</td>\n      <td>NaN</td>\n      <td>NaN</td>\n      <td>NaN</td>\n      <td>NaN</td>\n      <td>NaN</td>\n      <td>NaN</td>\n      <td>NaN</td>\n      <td>NaN</td>\n    </tr>\n    <tr>\n      <th>12362.0</th>\n      <td>NaN</td>\n      <td>NaN</td>\n      <td>NaN</td>\n      <td>NaN</td>\n      <td>NaN</td>\n      <td>NaN</td>\n      <td>NaN</td>\n      <td>NaN</td>\n      <td>NaN</td>\n      <td>NaN</td>\n      <td>...</td>\n      <td>NaN</td>\n      <td>NaN</td>\n      <td>NaN</td>\n      <td>NaN</td>\n      <td>NaN</td>\n      <td>NaN</td>\n      <td>NaN</td>\n      <td>NaN</td>\n      <td>NaN</td>\n      <td>4.0</td>\n    </tr>\n    <tr>\n      <th>...</th>\n      <td>...</td>\n      <td>...</td>\n      <td>...</td>\n      <td>...</td>\n      <td>...</td>\n      <td>...</td>\n      <td>...</td>\n      <td>...</td>\n      <td>...</td>\n      <td>...</td>\n      <td>...</td>\n      <td>...</td>\n      <td>...</td>\n      <td>...</td>\n      <td>...</td>\n      <td>...</td>\n      <td>...</td>\n      <td>...</td>\n      <td>...</td>\n      <td>...</td>\n      <td>...</td>\n    </tr>\n    <tr>\n      <th>18263.0</th>\n      <td>NaN</td>\n      <td>NaN</td>\n      <td>NaN</td>\n      <td>NaN</td>\n      <td>NaN</td>\n      <td>20.0</td>\n      <td>NaN</td>\n      <td>NaN</td>\n      <td>NaN</td>\n      <td>NaN</td>\n      <td>...</td>\n      <td>NaN</td>\n      <td>NaN</td>\n      <td>NaN</td>\n      <td>NaN</td>\n      <td>NaN</td>\n      <td>NaN</td>\n      <td>NaN</td>\n      <td>NaN</td>\n      <td>NaN</td>\n      <td>NaN</td>\n    </tr>\n    <tr>\n      <th>18270.0</th>\n      <td>NaN</td>\n      <td>NaN</td>\n      <td>NaN</td>\n      <td>NaN</td>\n      <td>NaN</td>\n      <td>NaN</td>\n      <td>NaN</td>\n      <td>NaN</td>\n      <td>NaN</td>\n      <td>NaN</td>\n      <td>...</td>\n      <td>NaN</td>\n      <td>NaN</td>\n      <td>NaN</td>\n      <td>NaN</td>\n      <td>NaN</td>\n      <td>NaN</td>\n      <td>NaN</td>\n      <td>NaN</td>\n      <td>NaN</td>\n      <td>NaN</td>\n    </tr>\n    <tr>\n      <th>18274.0</th>\n      <td>NaN</td>\n      <td>NaN</td>\n      <td>NaN</td>\n      <td>NaN</td>\n      <td>NaN</td>\n      <td>NaN</td>\n      <td>NaN</td>\n      <td>NaN</td>\n      <td>NaN</td>\n      <td>NaN</td>\n      <td>...</td>\n      <td>NaN</td>\n      <td>NaN</td>\n      <td>NaN</td>\n      <td>NaN</td>\n      <td>NaN</td>\n      <td>NaN</td>\n      <td>NaN</td>\n      <td>NaN</td>\n      <td>NaN</td>\n      <td>NaN</td>\n    </tr>\n    <tr>\n      <th>18276.0</th>\n      <td>NaN</td>\n      <td>NaN</td>\n      <td>NaN</td>\n      <td>NaN</td>\n      <td>NaN</td>\n      <td>NaN</td>\n      <td>NaN</td>\n      <td>NaN</td>\n      <td>NaN</td>\n      <td>NaN</td>\n      <td>...</td>\n      <td>NaN</td>\n      <td>NaN</td>\n      <td>NaN</td>\n      <td>NaN</td>\n      <td>NaN</td>\n      <td>NaN</td>\n      <td>NaN</td>\n      <td>NaN</td>\n      <td>NaN</td>\n      <td>NaN</td>\n    </tr>\n    <tr>\n      <th>18283.0</th>\n      <td>NaN</td>\n      <td>NaN</td>\n      <td>NaN</td>\n      <td>NaN</td>\n      <td>NaN</td>\n      <td>NaN</td>\n      <td>NaN</td>\n      <td>NaN</td>\n      <td>NaN</td>\n      <td>NaN</td>\n      <td>...</td>\n      <td>NaN</td>\n      <td>NaN</td>\n      <td>NaN</td>\n      <td>NaN</td>\n      <td>NaN</td>\n      <td>NaN</td>\n      <td>NaN</td>\n      <td>NaN</td>\n      <td>NaN</td>\n      <td>NaN</td>\n    </tr>\n  </tbody>\n</table>\n<p>1711 rows × 2704 columns</p>\n</div>"
     },
     "metadata": {},
     "execution_count": 12
    }
   ],
   "source": [
    "sell_matrix"
   ]
  },
  {
   "cell_type": "code",
   "execution_count": 16,
   "metadata": {},
   "outputs": [],
   "source": [
    "#Divide in arrays of customers and items for IDs\n",
    "customer_id_list = np.array(sell_matrix.index.tolist())\n",
    "item_id_list = np.array(sell_matrix.columns.tolist())"
   ]
  },
  {
   "cell_type": "code",
   "execution_count": 18,
   "metadata": {},
   "outputs": [],
   "source": [
    "#Create the sparse matrix\n",
    "sells_mtz = sell_matrix.fillna(0).values.copy()\n",
    "sells_mtz_sparse = coo_matrix(sells_mtz)"
   ]
  },
  {
   "source": [
    "## Realizamos SVD\n",
    "\n",
    "Obtenemos las tres matrices *U*, sigma y *V*"
   ],
   "cell_type": "markdown",
   "metadata": {}
  },
  {
   "cell_type": "code",
   "execution_count": 25,
   "metadata": {},
   "outputs": [],
   "source": [
    "U, s, V = svds(sells_mtz_sparse, k=10)\n",
    "s = np.diag(s)"
   ]
  },
  {
   "cell_type": "code",
   "execution_count": 27,
   "metadata": {},
   "outputs": [],
   "source": [
    "#Unimos las matrices\n",
    "seels_svd = U @ s @ V"
   ]
  },
  {
   "source": [
    "## Creamos la función de recomendación"
   ],
   "cell_type": "markdown",
   "metadata": {}
  },
  {
   "cell_type": "code",
   "execution_count": 37,
   "metadata": {},
   "outputs": [],
   "source": [
    "def recomendar(id_client, num_commends=5):\n",
    "    # cogemos la fila de la matriz que corresponde a la id de cliente \n",
    "    cliente_index = np.where(customer_id_lista == id_client)[0][0]\n",
    "\n",
    "    # Ordenamos las compras predichas por los clientes en valor descendente\n",
    "    index_sort = seels_svd[cliente_index, :].argsort()[::-1]\n",
    "\n",
    "    # creamos una máscara booleana (True/False) de los productos que no ha comprado el cliente\n",
    "    productos_no_comprados = sells_mtz[cliente_index, :][index_sort] == 0\n",
    "\n",
    "    rec_index = index_sort[productos_no_comprados]\n",
    "    rec_ids = item_id_lista[rec_index]\n",
    "    recomendaciones = rec_ids[:num_commends]\n",
    "    return recomendaciones"
   ]
  },
  {
   "cell_type": "code",
   "execution_count": 53,
   "metadata": {},
   "outputs": [
    {
     "output_type": "execute_result",
     "data": {
      "text/plain": [
       "['DOORMAT RED RETROSPOT',\n",
       " 'SET/5 RED RETROSPOT LID GLASS BOWLS',\n",
       " 'SET/6 RED SPOTTY PAPER CUPS',\n",
       " 'PAINTED METAL PEARS ASSORTED',\n",
       " 'SWEETHEART CERAMIC TRINKET BOX',\n",
       " 'STRAWBERRY CERAMIC TRINKET POT',\n",
       " 'GINGHAM HEART  DOORSTOP RED',\n",
       " 'RED RETROSPOT SUGAR JAM BOWL',\n",
       " 'RETROSPOT LARGE MILK JUG',\n",
       " 'RED RETROSPOT SMALL MILK JUG',\n",
       " 'RED HEART SHAPE LOVE BUCKET ',\n",
       " 'PINK  HEART SHAPE LOVE BUCKET ',\n",
       " 'RAIN PONCHO RETROSPOT',\n",
       " 'CERAMIC STRAWBERRY DESIGN MUG',\n",
       " 'PINK DOUGHNUT TRINKET POT ',\n",
       " 'SMALL RED RETROSPOT MUG IN BOX ',\n",
       " 'SMALL WHITE RETROSPOT MUG IN BOX ',\n",
       " 'FOOD CONTAINER SET 3 LOVE HEART ',\n",
       " 'LARGE HEART MEASURING SPOONS',\n",
       " 'ROUND SNACK BOXES SET OF4 WOODLAND ']"
      ]
     },
     "metadata": {},
     "execution_count": 53
    }
   ],
   "source": [
    "d = sell_matrix.loc[customer_id_list[0]]\n",
    "[item_dict[x] for x in d[d.notna()].index][:20]"
   ]
  },
  {
   "cell_type": "code",
   "execution_count": 59,
   "metadata": {},
   "outputs": [
    {
     "output_type": "execute_result",
     "data": {
      "text/plain": [
       "['MINI PAINT SET VINTAGE ',\n",
       " 'JUMBO BAG RED RETROSPOT',\n",
       " 'PLACE SETTING WHITE STAR',\n",
       " 'CHRISTMAS HANGING STAR WITH BELL',\n",
       " 'CHARLOTTE BAG PINK POLKADOT']"
      ]
     },
     "metadata": {},
     "execution_count": 59
    }
   ],
   "source": [
    "[item_dict[x] for x in recomendar(customer_id_list[0])]"
   ]
  },
  {
   "cell_type": "code",
   "execution_count": null,
   "metadata": {},
   "outputs": [],
   "source": []
  }
 ]
}