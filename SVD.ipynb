{
 "metadata": {
  "language_info": {
   "codemirror_mode": {
    "name": "ipython",
    "version": 3
   },
   "file_extension": ".py",
   "mimetype": "text/x-python",
   "name": "python",
   "nbconvert_exporter": "python",
   "pygments_lexer": "ipython3",
   "version": "3.7.6-final"
  },
  "orig_nbformat": 2,
  "kernelspec": {
   "name": "python37664bitvenvgeneralconda7085704f209445749460679d25135f01",
   "display_name": "Python 3.7.6 64-bit ('venv-General': conda)"
  }
 },
 "nbformat": 4,
 "nbformat_minor": 2,
 "cells": [
  {
   "cell_type": "code",
   "execution_count": 22,
   "metadata": {},
   "outputs": [],
   "source": [
    "import numpy as np\n",
    "import pandas as pd\n",
    "from scipy.sparse import coo_matrix\n",
    "from scipy.sparse.linalg import svds"
   ]
  },
  {
   "source": [
    "# Singular Value Decomposition\n",
    "\n",
    "$$ \\underset{(n, d)}A \\approx \\underset{(n, n)}U * \\underset{(n, d)}\\Sigma * \\underset{(d, d)} V^T  $$\n",
    "\n",
    "Cualquier matriz de tamaño (n, d) se puede descomponer en producto de tres factores\n",
    "\n",
    "* En *U* de tamaño (n, n) es una matriz ortogonal que contiene los vectores singulares izquierdos de *A*.\n",
    "* En $\\Sigma$ que es una matriz diagonal (n,d), cuyos valores son los valores singulares de la matriz *A* ordenados en valor decreciente\n",
    "* En *V* que es una matriz transpuesta (d,d), cuyos valores son los vectores singulares derechos de *A*.\n",
    "\n",
    "*Ortogonal significa que multiplicando la transpuesta por si misma, se obtiene la matriz identidad*\n",
    "\n",
    "Con esto lo que se consigue es que podemos ir elminando vectores de las matrices con la información que no es fundamental, (limpiar los datos) y quedarnos con aquella información más determinante.\n",
    "\n",
    "## Aplicación práctica\n",
    "\n",
    "Lo que se hace con los motores de recomendación, es para una película que tu no has visto, teniendo en cuenta tus características y las de otros usuarios. Mediante SVD nos quedamos con los usuarios que son parecidos a ti, y vemos las peliculas que no has visto\n",
    "## Preprocesamos los datos"
   ],
   "cell_type": "markdown",
   "metadata": {}
  },
  {
   "source": [
    "# Singular Value Decomposition\n",
    "\n",
    "## 1.  Basic Math introduction\n",
    "\n",
    "This algorith is based in matrix factorization. Matrix factorization say that every matrix of size (n, d) can be decomposed in a product of three factors:\n",
    "\n",
    "* *U* of size (n, n) is an ortogonal matrix that contains the left singular vectors of *A*.\n",
    "* $\\Sigma$ is a diagonal matrix (n,d), that constains the singular values of *A* in a decreasing order.\n",
    "* *V* is a transpose (d,d), that contain the right singular vectors of *A*.\n",
    "\n",
    "With this, we can start deleting vectores in the matrices wich the info that is not fundamental (cleaning data) and keep the *singular* information\n",
    "\n",
    "## 2. Creating a recomender system with SVD and Surprise\n",
    " "
   ],
   "cell_type": "markdown",
   "metadata": {}
  },
  {
   "source": [
    "###  Load librarys"
   ],
   "cell_type": "markdown",
   "metadata": {}
  },
  {
   "cell_type": "code",
   "execution_count": 25,
   "metadata": {},
   "outputs": [],
   "source": [
    "import pandas as pd\n",
    "from pandas.core.frame import DataFrame\n",
    "from pandas.io.parsers import read_csv\n",
    "from surprise import SVDpp\n",
    "from surprise import Dataset, Reader\n",
    "from surprise.model_selection import train_test_split\n",
    "from surprise import accuracy\n",
    "from collections import defaultdict"
   ]
  },
  {
   "source": [
    "### Load data "
   ],
   "cell_type": "markdown",
   "metadata": {}
  },
  {
   "cell_type": "code",
   "execution_count": 17,
   "metadata": {},
   "outputs": [],
   "source": [
    "movies = pd.read_csv(\"/home/rubiales/Desktop/Projects/General/SVD/data/movies.csv\")\n",
    "ratings = pd.read_csv(\"/home/rubiales/Desktop/Projects/General/SVD/data/ratings.csv\")\n",
    "df_movies = ratings.merge(movies, on=\"movieId\", how=\"left\")\n",
    "df_movies_to_model = movies[movies.columns[:-3]]"
   ]
  },
  {
   "source": [
    "### Preprocessing"
   ],
   "cell_type": "markdown",
   "metadata": {}
  },
  {
   "cell_type": "code",
   "execution_count": 4,
   "metadata": {},
   "outputs": [],
   "source": [
    "reader = Reader()\n",
    "data = Dataset.load_from_df(df_movies_to_model[movies.columns[:-3]], reader)\n",
    "train, test = train_test_split(data, test_size=0.25)"
   ]
  },
  {
   "source": [
    "### Training and testing"
   ],
   "cell_type": "markdown",
   "metadata": {}
  },
  {
   "cell_type": "code",
   "execution_count": 5,
   "metadata": {},
   "outputs": [],
   "source": [
    "svd = SVDpp()\n",
    "svd.fit(train)\n",
    "preds = svd.test(test)"
   ]
  },
  {
   "source": [
    "### Evaluation\n",
    "\n",
    "It's a good evaluations marks so let's train the model with the complete Dataset"
   ],
   "cell_type": "markdown",
   "metadata": {}
  },
  {
   "cell_type": "code",
   "execution_count": 6,
   "metadata": {},
   "outputs": [
    {
     "output_type": "stream",
     "name": "stdout",
     "text": [
      "MAE:  0.6639\nRMSE: 0.8679\n"
     ]
    },
    {
     "output_type": "execute_result",
     "data": {
      "text/plain": [
       "0.8678512394549509"
      ]
     },
     "metadata": {},
     "execution_count": 6
    }
   ],
   "source": [
    "accuracy.mae(preds)\n",
    "accuracy.rmse(preds)"
   ]
  },
  {
   "source": [
    "### Train all data"
   ],
   "cell_type": "markdown",
   "metadata": {}
  },
  {
   "cell_type": "code",
   "execution_count": 7,
   "metadata": {},
   "outputs": [
    {
     "output_type": "execute_result",
     "data": {
      "text/plain": [
       "Prediction(uid=1, iid=1, r_ui=None, est=4.823116918604602, details={'was_impossible': False})"
      ]
     },
     "metadata": {},
     "execution_count": 7
    }
   ],
   "source": [
    "trainfull = data.build_full_trainset()\n",
    "\n",
    "svd = SVDpp()\n",
    "svd.fit(trainfull)\n",
    "\n",
    "svd.predict(uid=1, iid=1)"
   ]
  },
  {
   "source": [
    "### Create a recommender function"
   ],
   "cell_type": "markdown",
   "metadata": {}
  },
  {
   "cell_type": "code",
   "execution_count": 15,
   "metadata": {},
   "outputs": [],
   "source": [
    "def recommend_system(userId, dataframe, algorithm, n_commends):\n",
    "    \"\"\"\n",
    "with the parameters, returns back the top n recommends movies.\n",
    "\n",
    "Parameters\n",
    "-----------\n",
    "\n",
    "userId: the user ID of the person that we want recommendations\n",
    "\n",
    "dataframe: the DataFrame of movies.\n",
    "\n",
    "algorithm: the algorith used to recommend movies.\n",
    "\n",
    "n_commends: the number of movies recommended.\n",
    "\n",
    "\n",
    "return\n",
    "------\n",
    "\n",
    "ID of movies that a specific user will like.\n",
    "\n",
    "    \"\"\"\n",
    "    movie_ids = dataframe['movieId'].to_list()\n",
    "    movies_watched = dataframe[dataframe[\"userId\"] == userId][\"movieId\"]\n",
    "    movies_no_watched = [movie for movie in movie_ids if movie not in movies_watched]\n",
    "\n",
    "    preds = [algorithm.predict(uid=userId, iid=movie) for movie in movies_no_watched]\n",
    "    commends_ratting = {pred[1]:pred[3] for pred in preds}\n",
    "    order_dict = {k: v for k, v in sorted(commends_ratting.items(), key=lambda item: item[1])}\n",
    "\n",
    "    top_predictions = list(order_dict.keys())[:n_commends]\n",
    "\n",
    "    return dataframe[dataframe[\"movieId\"].isin(top_predictions)][[\"title\", \"genres\"]].drop_duplicates()"
   ]
  },
  {
   "cell_type": "code",
   "execution_count": 18,
   "metadata": {},
   "outputs": [
    {
     "output_type": "stream",
     "name": "stdout",
     "text": [
      "ID of the movies recommended:                                               title  \\\n148    I Still Know What You Did Last Summer (1998)   \n2554                 Speed 2: Cruise Control (1997)   \n2795                        Inspector Gadget (1999)   \n14369                            Spice World (1997)   \n26886                                Jason X (2002)   \n\n                                 genres  \n148             Horror|Mystery|Thriller  \n2554            Action|Romance|Thriller  \n2795   Action|Adventure|Children|Comedy  \n14369                            Comedy  \n26886            Horror|Sci-Fi|Thriller  \n"
     ]
    }
   ],
   "source": [
    "movies_recommended = recommend_system(1, df_movies, svd, 5)\n",
    "print(\"ID of the movies recommended:\", movies_recommended)"
   ]
  },
  {
   "source": [
    "### Check if have sense and conclusion"
   ],
   "cell_type": "markdown",
   "metadata": {}
  },
  {
   "cell_type": "code",
   "execution_count": 46,
   "metadata": {},
   "outputs": [],
   "source": [
    "def check_movies_user(userId, dataframe, n):\n",
    "    return dataframe[dataframe[\"userId\"] ==userId].sort_values(\"rating\", ascending=False)[:n]"
   ]
  },
  {
   "cell_type": "code",
   "execution_count": 48,
   "metadata": {},
   "outputs": [
    {
     "output_type": "stream",
     "name": "stdout",
     "text": [
      "Movies user likes:      userId  movieId  rating  timestamp  \\\n231       1     5060     5.0  964984002   \n185       1     2872     5.0  964981680   \n89        1     1291     5.0  964981909   \n90        1     1298     5.0  964984086   \n190       1     2948     5.0  964982191   \n189       1     2947     5.0  964982176   \n188       1     2944     5.0  964981872   \n186       1     2899     5.0  964982703   \n184       1     2858     5.0  964980868   \n179       1     2700     5.0  964980985   \n98        1     1517     5.0  964981107   \n100       1     1573     5.0  964982290   \n102       1     1587     5.0  964982346   \n103       1     1617     5.0  964982951   \n181       1     2761     5.0  964982703   \n105       1     1625     5.0  964983504   \n88        1     1282     5.0  964982703   \n87        1     1278     5.0  964983414   \n86        1     1275     5.0  964982290   \n85        1     1270     5.0  964983705   \n\n                                                 title  \\\n231                       M*A*S*H (a.k.a. MASH) (1970)   \n185                                   Excalibur (1981)   \n89           Indiana Jones and the Last Crusade (1989)   \n90                         Pink Floyd: The Wall (1982)   \n190                       From Russia with Love (1963)   \n189                                  Goldfinger (1964)   \n188                            Dirty Dozen, The (1967)   \n186                          Gulliver's Travels (1939)   \n184                             American Beauty (1999)   \n179        South Park: Bigger, Longer and Uncut (1999)   \n98   Austin Powers: International Man of Mystery (1...   \n100                                    Face/Off (1997)   \n102                         Conan the Barbarian (1982)   \n103                           L.A. Confidential (1997)   \n181                             Iron Giant, The (1999)   \n105                                   Game, The (1997)   \n88                                     Fantasia (1940)   \n87                           Young Frankenstein (1974)   \n86                                   Highlander (1986)   \n85                           Back to the Future (1985)   \n\n                                        genres  \n231                           Comedy|Drama|War  \n185                          Adventure|Fantasy  \n89                            Action|Adventure  \n90                               Drama|Musical  \n190                  Action|Adventure|Thriller  \n189                  Action|Adventure|Thriller  \n188                           Action|Drama|War  \n186               Adventure|Animation|Children  \n184                              Drama|Romance  \n179                   Animation|Comedy|Musical  \n98                     Action|Adventure|Comedy  \n100                Action|Crime|Drama|Thriller  \n102                   Action|Adventure|Fantasy  \n103           Crime|Film-Noir|Mystery|Thriller  \n181  Adventure|Animation|Children|Drama|Sci-Fi  \n105                     Drama|Mystery|Thriller  \n88          Animation|Children|Fantasy|Musical  \n87                              Comedy|Fantasy  \n86                    Action|Adventure|Fantasy  \n85                     Adventure|Comedy|Sci-Fi  \n"
     ]
    }
   ],
   "source": [
    "print(f\"Movies user likes:\", check_movies_user(1, df_movies, 20))"
   ]
  },
  {
   "source": [
    "## 3. Conclusions\n",
    "* Algorithm: have good evaluation metrics, we can improve it with other options from surprise library as cross validation\n",
    "* Recommender function: can be improved and make more general and in a better way for production, but for this task is enought\n",
    "* Results: We can see the user loves Thriller, action, adventure, and some comedy, and our recommender systems give back this kind of movies and the user have never seen before. Perfect!"
   ],
   "cell_type": "markdown",
   "metadata": {}
  }
 ]
}